{
  "nbformat": 4,
  "nbformat_minor": 0,
  "metadata": {
    "colab": {
      "provenance": []
    },
    "kernelspec": {
      "name": "python3",
      "display_name": "Python 3"
    },
    "language_info": {
      "name": "python"
    }
  },
  "cells": [
    {
      "cell_type": "markdown",
      "source": [
        "Leonardo Di Giglio Millan"
      ],
      "metadata": {
        "id": "ua3tWpuhVMVr"
      }
    },
    {
      "cell_type": "markdown",
      "source": [
        "RA: 23011086"
      ],
      "metadata": {
        "id": "A079WGyqVPg7"
      }
    },
    {
      "cell_type": "code",
      "execution_count": 66,
      "metadata": {
        "id": "GfRGUN9uRr9e"
      },
      "outputs": [],
      "source": [
        "import requests\n",
        "import os\n",
        "import random\n",
        "from IPython.display import Image"
      ]
    },
    {
      "cell_type": "code",
      "source": [
        "key = \"hswvvovluG4I956IHb5XaydxpmzreoRl9qebS9nJ\""
      ],
      "metadata": {
        "id": "DHCwiJy5VsYa"
      },
      "execution_count": 3,
      "outputs": []
    },
    {
      "cell_type": "code",
      "source": [
        "question = 23011086\n",
        "question = question % 10\n",
        "dicionario = {6: \"NAVCAM\"}\n",
        "camera = dicionario[question]\n",
        "sol = 1500\n",
        "url = f\"https://api.nasa.gov/mars-photos/api/v1/rovers/curiosity/photos?sol={sol}&api_key={key}&camera={camera}\"\n",
        "get = requests.get(url)\n",
        "json = get.json()\n",
        "url_imagem = json[\"photos\"][0][\"img_src\"]\n",
        "Image(url=url_imagem)"
      ],
      "metadata": {
        "id": "tpNv9y0RSmG2",
        "colab": {
          "base_uri": "https://localhost:8080/",
          "height": 1000
        },
        "outputId": "85b33ce1-db29-4eed-bbad-fc1a2b0174b3"
      },
      "execution_count": 89,
      "outputs": [
        {
          "output_type": "execute_result",
          "data": {
            "text/html": [
              "<img src=\"http://mars.jpl.nasa.gov/msl-raw-images/proj/msl/redops/ods/surface/sol/01500/opgs/edr/ncam/NLB_530661097EDR_F0582394NCAM07753M_.JPG\"/>"
            ],
            "text/plain": [
              "<IPython.core.display.Image object>"
            ]
          },
          "metadata": {},
          "execution_count": 89
        }
      ]
    }
  ]
}